{
 "cells": [
  {
   "cell_type": "code",
   "execution_count": 17,
   "metadata": {},
   "outputs": [],
   "source": [
    "import pandas as pd\n",
    "import re\n",
    "import nltk\n",
    "from nltk.corpus import stopwords\n",
    "from nltk.stem import WordNetLemmatizer\n",
    "from textblob import TextBlob"
   ]
  },
  {
   "cell_type": "code",
   "execution_count": 18,
   "metadata": {},
   "outputs": [
    {
     "data": {
      "text/html": [
       "<div>\n",
       "<style scoped>\n",
       "    .dataframe tbody tr th:only-of-type {\n",
       "        vertical-align: middle;\n",
       "    }\n",
       "\n",
       "    .dataframe tbody tr th {\n",
       "        vertical-align: top;\n",
       "    }\n",
       "\n",
       "    .dataframe thead th {\n",
       "        text-align: right;\n",
       "    }\n",
       "</style>\n",
       "<table border=\"1\" class=\"dataframe\">\n",
       "  <thead>\n",
       "    <tr style=\"text-align: right;\">\n",
       "      <th></th>\n",
       "      <th>Unnamed: 0</th>\n",
       "      <th>Rating</th>\n",
       "      <th>Title</th>\n",
       "      <th>Author</th>\n",
       "      <th>Country</th>\n",
       "      <th>Date</th>\n",
       "      <th>Review Body</th>\n",
       "      <th>Type Of Traveller</th>\n",
       "      <th>Seat Type</th>\n",
       "      <th>Aircraft</th>\n",
       "      <th>Verified</th>\n",
       "      <th>Source</th>\n",
       "      <th>Destination</th>\n",
       "      <th>Via</th>\n",
       "      <th>Date Flown Month</th>\n",
       "      <th>Date Flown Year</th>\n",
       "    </tr>\n",
       "  </thead>\n",
       "  <tbody>\n",
       "    <tr>\n",
       "      <th>0</th>\n",
       "      <td>0</td>\n",
       "      <td>1</td>\n",
       "      <td>marred inconvenience</td>\n",
       "      <td>mary le</td>\n",
       "      <td>united kingdom</td>\n",
       "      <td>2024-03-02</td>\n",
       "      <td>delay flight haneda doha caused bit chaos upon...</td>\n",
       "      <td>Solo Leisure</td>\n",
       "      <td>economy class</td>\n",
       "      <td>NaN</td>\n",
       "      <td>False</td>\n",
       "      <td>TYO</td>\n",
       "      <td>LHR</td>\n",
       "      <td>1</td>\n",
       "      <td>3</td>\n",
       "      <td>2024.0</td>\n",
       "    </tr>\n",
       "    <tr>\n",
       "      <th>1</th>\n",
       "      <td>1</td>\n",
       "      <td>1</td>\n",
       "      <td>unknown</td>\n",
       "      <td>brian english</td>\n",
       "      <td>unknown</td>\n",
       "      <td>2024-02-29</td>\n",
       "      <td>convinced needed pay 1500 add middle name flig...</td>\n",
       "      <td>Couple Leisure</td>\n",
       "      <td>business class</td>\n",
       "      <td>NaN</td>\n",
       "      <td>True</td>\n",
       "      <td>DOH</td>\n",
       "      <td>YUL</td>\n",
       "      <td>0</td>\n",
       "      <td>2</td>\n",
       "      <td>2024.0</td>\n",
       "    </tr>\n",
       "    <tr>\n",
       "      <th>2</th>\n",
       "      <td>2</td>\n",
       "      <td>1</td>\n",
       "      <td>attempt address complaint</td>\n",
       "      <td>wayne burgess</td>\n",
       "      <td>australia</td>\n",
       "      <td>2024-02-29</td>\n",
       "      <td>sent 5 email received 2 automatic response ema...</td>\n",
       "      <td>Business</td>\n",
       "      <td>economy class</td>\n",
       "      <td>A380</td>\n",
       "      <td>True</td>\n",
       "      <td>DOH</td>\n",
       "      <td>PER</td>\n",
       "      <td>0</td>\n",
       "      <td>0</td>\n",
       "      <td>NaN</td>\n",
       "    </tr>\n",
       "    <tr>\n",
       "      <th>3</th>\n",
       "      <td>3</td>\n",
       "      <td>10</td>\n",
       "      <td>hope update a380</td>\n",
       "      <td>alwaleed althani</td>\n",
       "      <td>qatar</td>\n",
       "      <td>2024-02-25</td>\n",
       "      <td>unknown</td>\n",
       "      <td>Couple Leisure</td>\n",
       "      <td>first class</td>\n",
       "      <td>A380-800</td>\n",
       "      <td>Unknown</td>\n",
       "      <td>DOH</td>\n",
       "      <td>LHR</td>\n",
       "      <td>0</td>\n",
       "      <td>2</td>\n",
       "      <td>2024.0</td>\n",
       "    </tr>\n",
       "    <tr>\n",
       "      <th>4</th>\n",
       "      <td>4</td>\n",
       "      <td>7</td>\n",
       "      <td>unknown</td>\n",
       "      <td>w warnock</td>\n",
       "      <td>united kingdom</td>\n",
       "      <td>2024-02-22</td>\n",
       "      <td>unknown</td>\n",
       "      <td>Couple Leisure</td>\n",
       "      <td>business class</td>\n",
       "      <td>NaN</td>\n",
       "      <td>Unknown</td>\n",
       "      <td>AKL</td>\n",
       "      <td>DOH</td>\n",
       "      <td>0</td>\n",
       "      <td>2</td>\n",
       "      <td>2024.0</td>\n",
       "    </tr>\n",
       "  </tbody>\n",
       "</table>\n",
       "</div>"
      ],
      "text/plain": [
       "   Unnamed: 0  Rating                      Title            Author  \\\n",
       "0           0       1       marred inconvenience           mary le   \n",
       "1           1       1                    unknown     brian english   \n",
       "2           2       1  attempt address complaint     wayne burgess   \n",
       "3           3      10           hope update a380  alwaleed althani   \n",
       "4           4       7                    unknown         w warnock   \n",
       "\n",
       "          Country        Date  \\\n",
       "0  united kingdom  2024-03-02   \n",
       "1         unknown  2024-02-29   \n",
       "2       australia  2024-02-29   \n",
       "3           qatar  2024-02-25   \n",
       "4  united kingdom  2024-02-22   \n",
       "\n",
       "                                         Review Body Type Of Traveller  \\\n",
       "0  delay flight haneda doha caused bit chaos upon...      Solo Leisure   \n",
       "1  convinced needed pay 1500 add middle name flig...    Couple Leisure   \n",
       "2  sent 5 email received 2 automatic response ema...          Business   \n",
       "3                                            unknown    Couple Leisure   \n",
       "4                                            unknown    Couple Leisure   \n",
       "\n",
       "        Seat Type  Aircraft Verified Source Destination  Via  \\\n",
       "0   economy class       NaN    False    TYO         LHR    1   \n",
       "1  business class       NaN     True    DOH         YUL    0   \n",
       "2   economy class      A380     True    DOH         PER    0   \n",
       "3     first class  A380-800  Unknown    DOH         LHR    0   \n",
       "4  business class       NaN  Unknown    AKL         DOH    0   \n",
       "\n",
       "   Date Flown Month  Date Flown Year  \n",
       "0                 3           2024.0  \n",
       "1                 2           2024.0  \n",
       "2                 0              NaN  \n",
       "3                 2           2024.0  \n",
       "4                 2           2024.0  "
      ]
     },
     "execution_count": 18,
     "metadata": {},
     "output_type": "execute_result"
    }
   ],
   "source": [
    "df = pd.read_csv('../dataclean/qatar_reviews.csv')\n",
    "df.head()"
   ]
  },
  {
   "cell_type": "code",
   "execution_count": 19,
   "metadata": {},
   "outputs": [
    {
     "name": "stdout",
     "output_type": "stream",
     "text": [
      "<class 'pandas.core.frame.DataFrame'>\n",
      "RangeIndex: 2773 entries, 0 to 2772\n",
      "Data columns (total 16 columns):\n",
      " #   Column             Non-Null Count  Dtype  \n",
      "---  ------             --------------  -----  \n",
      " 0   Unnamed: 0         2773 non-null   int64  \n",
      " 1   Rating             2773 non-null   int64  \n",
      " 2   Title              2773 non-null   object \n",
      " 3   Author             2773 non-null   object \n",
      " 4   Country            2773 non-null   object \n",
      " 5   Date               2655 non-null   object \n",
      " 6   Review Body        2773 non-null   object \n",
      " 7   Type Of Traveller  1860 non-null   object \n",
      " 8   Seat Type          2218 non-null   object \n",
      " 9   Aircraft           1421 non-null   object \n",
      " 10  Verified           2773 non-null   object \n",
      " 11  Source             2773 non-null   object \n",
      " 12  Destination        2773 non-null   object \n",
      " 13  Via                2773 non-null   int64  \n",
      " 14  Date Flown Month   2773 non-null   int64  \n",
      " 15  Date Flown Year    1878 non-null   float64\n",
      "dtypes: float64(1), int64(4), object(11)\n",
      "memory usage: 346.8+ KB\n"
     ]
    }
   ],
   "source": [
    "df.info()"
   ]
  },
  {
   "cell_type": "markdown",
   "metadata": {},
   "source": [
    "### labelling data"
   ]
  },
  {
   "cell_type": "code",
   "execution_count": 20,
   "metadata": {},
   "outputs": [
    {
     "data": {
      "text/plain": [
       "2309    singapore miami boeing 787 seat appear good ch...\n",
       "1520    verified review frankfurt bangkok via doha fir...\n",
       "1907                                              unknown\n",
       "970     singapore milan via doha missing connection fl...\n",
       "993     stockholm chennai via doha good value money bi...\n",
       "446     qr favorite airline step travel pleasant due a...\n",
       "624                                               unknown\n",
       "1965    ive used qatar airway mix class 10 time past y...\n",
       "2227    manchester riyadh via doha food good seat expe...\n",
       "1258    brisbane moscow via adelaide doha qatar airway...\n",
       "Name: Review Body, dtype: object"
      ]
     },
     "execution_count": 20,
     "metadata": {},
     "output_type": "execute_result"
    }
   ],
   "source": [
    "df['Review Body'].sample(10)"
   ]
  },
  {
   "cell_type": "code",
   "execution_count": 21,
   "metadata": {},
   "outputs": [
    {
     "name": "stderr",
     "output_type": "stream",
     "text": [
      "[nltk_data] Downloading package stopwords to\n",
      "[nltk_data]     C:\\Users\\Nadia\\AppData\\Roaming\\nltk_data...\n",
      "[nltk_data]   Package stopwords is already up-to-date!\n",
      "[nltk_data] Downloading package wordnet to\n",
      "[nltk_data]     C:\\Users\\Nadia\\AppData\\Roaming\\nltk_data...\n",
      "[nltk_data]   Package wordnet is already up-to-date!\n"
     ]
    }
   ],
   "source": [
    "# Download stopwords dan wordnet jika belum\n",
    "nltk.download('stopwords')\n",
    "nltk.download('wordnet')\n",
    "\n",
    "# Inisialisasi stopwords dan lemmatizer\n",
    "stop_words = set(stopwords.words('english'))\n",
    "lemmatizer = WordNetLemmatizer()"
   ]
  },
  {
   "cell_type": "code",
   "execution_count": 71,
   "metadata": {},
   "outputs": [],
   "source": [
    "def clean_text(text):\n",
    "    if isinstance(text, str):  # Periksa apakah input adalah string\n",
    "        text = text.lower()  # Convert to lowercase\n",
    "        text = re.sub(r'http\\S+', '', text)  # Remove URLs\n",
    "        text = re.sub(r'<.*?>', '', text)  # Remove HTML tags\n",
    "        text = re.sub(r'@\\w+', '', text)  # Remove mentions\n",
    "        text = re.sub(r'#', '', text)  # Remove hash symbols\n",
    "        text = re.sub(r'\\d+', '', text)  # Remove numbers\n",
    "        text = re.sub(r'[\\U0001F600-\\U0001F64F]', '', text)  # Remove emoticons\n",
    "        text = re.sub(r'[\\U0001F300-\\U0001F5FF]', '', text)  # Remove symbols & pictographs\n",
    "        text = re.sub(r'[\\U0001F680-\\U0001F6FF]', '', text)  # Remove transport & map symbols\n",
    "        text = re.sub(r'[\\U0001F700-\\U0001F77F]', '', text)  # Remove alchemical symbols\n",
    "        text = re.sub(r'[\\U0001F780-\\U0001F7FF]', '', text)  # Remove Geometric Shapes Extended\n",
    "        text = re.sub(r'[\\U0001F800-\\U0001F8FF]', '', text)  # Remove Supplemental Arrows-C\n",
    "        text = re.sub(r'[\\U0001F900-\\U0001F9FF]', '', text)  # Remove Supplemental Symbols and Pictographs\n",
    "        text = re.sub(r'[\\U0001FA00-\\U0001FA6F]', '', text)  # Remove Chess Symbols\n",
    "        text = re.sub(r'[\\U0001FA70-\\U0001FAFF]', '', text)  # Remove Symbols and Pictographs Extended-A\n",
    "        text = re.sub(r'[\\U00002702-\\U000027B0]', '', text)  # Remove Dingbats\n",
    "        text = re.sub(r'\\W', ' ', text)  # Remove special characters and punctuation\n",
    "        text = re.sub(r'\\s+', ' ', text).strip()  # Remove extra whitespaces\n",
    "        words = text.split()\n",
    "        words = [word for word in words if word not in stop_words]  # Remove stopwords\n",
    "        words = [lemmatizer.lemmatize(word) for word in words]  # Lemmatize words\n",
    "        return ' '.join(words)\n",
    "    else:\n",
    "        return ''  # Kembalikan string kosong jika bukan teks"
   ]
  },
  {
   "cell_type": "code",
   "execution_count": 23,
   "metadata": {},
   "outputs": [],
   "source": [
    "df['Review Body'] = df['Review Body'].apply(clean_text)"
   ]
  },
  {
   "cell_type": "code",
   "execution_count": 24,
   "metadata": {},
   "outputs": [],
   "source": [
    "# membuat fungsi negasi\n",
    "# Fungsi untuk mendeteksi negasi\n",
    "def detect_negation(text):\n",
    "    # Daftar kata negasi umum dalam bahasa Inggris\n",
    "    negation_words = {\"not\", \"no\", \"never\", \"none\", \"nobody\", \"nothing\", \"neither\", \"nowhere\", \"hardly\", \"scarcely\", \"barely\", \"without\", \"cannot\"}\n",
    "    \n",
    "    words = text.lower().split()\n",
    "    negated_text = []\n",
    "    negate = False\n",
    "    \n",
    "    for word in words:\n",
    "        if word in negation_words:\n",
    "            negate = True  # Aktifkan penanda negasi\n",
    "        elif negate:\n",
    "            # Tambahkan prefiks NOT_ ke kata setelah kata negasi\n",
    "            negated_text.append(\"NOT_\" + word)\n",
    "            negate = False  # Reset negasi setelah satu kata\n",
    "        else:\n",
    "            negated_text.append(word)\n",
    "    \n",
    "    return ' '.join(negated_text)"
   ]
  },
  {
   "cell_type": "code",
   "execution_count": 25,
   "metadata": {},
   "outputs": [],
   "source": [
    "# Fungsi untuk menganalisis sentimen dengan TextBlob\n",
    "def analyze_sentiment_with_negation(text):\n",
    "    # Deteksi negasi pada teks\n",
    "    negated_text = detect_negation(text)\n",
    "    \n",
    "    # Lakukan analisis sentimen menggunakan TextBlob\n",
    "    blob = TextBlob(negated_text)\n",
    "    sentiment = blob.sentiment.polarity  # Nilai polaritas (-1 hingga 1)\n",
    "\n",
    "    # Tentukan sentimen (positif, negatif, netral)\n",
    "    if sentiment > 0:\n",
    "        sentiment_label = \"Positive\"\n",
    "    elif sentiment < 0:\n",
    "        sentiment_label = \"Negative\"\n",
    "    else:\n",
    "        sentiment_label = \"Neutral\"\n",
    "\n",
    "    return sentiment_label, sentiment"
   ]
  },
  {
   "cell_type": "code",
   "execution_count": 26,
   "metadata": {},
   "outputs": [],
   "source": [
    "df[['Sentiment Label', 'Polarity']] = df['Review Body'].apply(lambda x: pd.Series(analyze_sentiment_with_negation(x)))"
   ]
  },
  {
   "cell_type": "code",
   "execution_count": 45,
   "metadata": {},
   "outputs": [
    {
     "data": {
      "text/html": [
       "<div>\n",
       "<style scoped>\n",
       "    .dataframe tbody tr th:only-of-type {\n",
       "        vertical-align: middle;\n",
       "    }\n",
       "\n",
       "    .dataframe tbody tr th {\n",
       "        vertical-align: top;\n",
       "    }\n",
       "\n",
       "    .dataframe thead th {\n",
       "        text-align: right;\n",
       "    }\n",
       "</style>\n",
       "<table border=\"1\" class=\"dataframe\">\n",
       "  <thead>\n",
       "    <tr style=\"text-align: right;\">\n",
       "      <th></th>\n",
       "      <th>Rating</th>\n",
       "      <th>Review Body</th>\n",
       "      <th>Sentiment Label</th>\n",
       "    </tr>\n",
       "  </thead>\n",
       "  <tbody>\n",
       "    <tr>\n",
       "      <th>1862</th>\n",
       "      <td>8</td>\n",
       "      <td>verified review travelled twice qatar airway r...</td>\n",
       "      <td>Positive</td>\n",
       "    </tr>\n",
       "    <tr>\n",
       "      <th>2588</th>\n",
       "      <td>9</td>\n",
       "      <td>jnbdohbcn return flight time early jnb return ...</td>\n",
       "      <td>Positive</td>\n",
       "    </tr>\n",
       "    <tr>\n",
       "      <th>278</th>\n",
       "      <td>4</td>\n",
       "      <td>flight service good usual high standard servic...</td>\n",
       "      <td>Negative</td>\n",
       "    </tr>\n",
       "    <tr>\n",
       "      <th>1861</th>\n",
       "      <td>8</td>\n",
       "      <td>verified review travelled twice qatar airway r...</td>\n",
       "      <td>Positive</td>\n",
       "    </tr>\n",
       "    <tr>\n",
       "      <th>1117</th>\n",
       "      <td>7</td>\n",
       "      <td>checked munich airport special request seat me...</td>\n",
       "      <td>Positive</td>\n",
       "    </tr>\n",
       "    <tr>\n",
       "      <th>1483</th>\n",
       "      <td>1</td>\n",
       "      <td>verified review lagos washington via doha boar...</td>\n",
       "      <td>Negative</td>\n",
       "    </tr>\n",
       "    <tr>\n",
       "      <th>2365</th>\n",
       "      <td>10</td>\n",
       "      <td>maddel via doha return way excellent trip over...</td>\n",
       "      <td>Positive</td>\n",
       "    </tr>\n",
       "    <tr>\n",
       "      <th>1710</th>\n",
       "      <td>10</td>\n",
       "      <td>verified review frankfurt cape town via doha n...</td>\n",
       "      <td>Positive</td>\n",
       "    </tr>\n",
       "    <tr>\n",
       "      <th>2185</th>\n",
       "      <td>10</td>\n",
       "      <td>qatar airway chicago delhi via doha fantastic ...</td>\n",
       "      <td>Positive</td>\n",
       "    </tr>\n",
       "    <tr>\n",
       "      <th>161</th>\n",
       "      <td>1</td>\n",
       "      <td>first time flying qatar airway definitely last...</td>\n",
       "      <td>Positive</td>\n",
       "    </tr>\n",
       "  </tbody>\n",
       "</table>\n",
       "</div>"
      ],
      "text/plain": [
       "      Rating                                        Review Body  \\\n",
       "1862       8  verified review travelled twice qatar airway r...   \n",
       "2588       9  jnbdohbcn return flight time early jnb return ...   \n",
       "278        4  flight service good usual high standard servic...   \n",
       "1861       8  verified review travelled twice qatar airway r...   \n",
       "1117       7  checked munich airport special request seat me...   \n",
       "1483       1  verified review lagos washington via doha boar...   \n",
       "2365      10  maddel via doha return way excellent trip over...   \n",
       "1710      10  verified review frankfurt cape town via doha n...   \n",
       "2185      10  qatar airway chicago delhi via doha fantastic ...   \n",
       "161        1  first time flying qatar airway definitely last...   \n",
       "\n",
       "     Sentiment Label  \n",
       "1862        Positive  \n",
       "2588        Positive  \n",
       "278         Negative  \n",
       "1861        Positive  \n",
       "1117        Positive  \n",
       "1483        Negative  \n",
       "2365        Positive  \n",
       "1710        Positive  \n",
       "2185        Positive  \n",
       "161         Positive  "
      ]
     },
     "execution_count": 45,
     "metadata": {},
     "output_type": "execute_result"
    }
   ],
   "source": [
    "df[['Rating', 'Review Body', 'Sentiment Label']].sample(10)"
   ]
  },
  {
   "cell_type": "code",
   "execution_count": 37,
   "metadata": {},
   "outputs": [],
   "source": [
    "# Hapus baris yang mengandung kata 'unknown' pada kolom 'Review Body'\n",
    "df = df[~df['Review Body'].str.contains('unknown', case=False, na=False)]\n"
   ]
  },
  {
   "cell_type": "code",
   "execution_count": 49,
   "metadata": {},
   "outputs": [
    {
     "data": {
      "text/plain": [
       "Sentiment Label\n",
       "Positive    1973\n",
       "Negative     231\n",
       "Neutral       15\n",
       "Name: count, dtype: int64"
      ]
     },
     "execution_count": 49,
     "metadata": {},
     "output_type": "execute_result"
    }
   ],
   "source": [
    "df['Sentiment Label'].value_counts()"
   ]
  },
  {
   "cell_type": "markdown",
   "metadata": {},
   "source": [
    "### Modelling sentiment analysis tanpa rating "
   ]
  },
  {
   "cell_type": "markdown",
   "metadata": {},
   "source": [
    "#### SVM "
   ]
  },
  {
   "cell_type": "code",
   "execution_count": 56,
   "metadata": {},
   "outputs": [],
   "source": [
    "from sklearn.model_selection import train_test_split, GridSearchCV\n",
    "from sklearn.feature_extraction.text import TfidfVectorizer\n",
    "from sklearn.svm import SVC\n",
    "from sklearn.pipeline import Pipeline\n",
    "from sklearn.metrics import accuracy_score, classification_report"
   ]
  },
  {
   "cell_type": "code",
   "execution_count": 50,
   "metadata": {},
   "outputs": [],
   "source": [
    "df['Sentiment Label'] = df['Sentiment Label'].map({'Positive': 1, 'Negative': -1, 'Neutral': 0})"
   ]
  },
  {
   "cell_type": "code",
   "execution_count": 51,
   "metadata": {},
   "outputs": [
    {
     "data": {
      "text/plain": [
       "Sentiment Label\n",
       " 1    1973\n",
       "-1     231\n",
       " 0      15\n",
       "Name: count, dtype: int64"
      ]
     },
     "execution_count": 51,
     "metadata": {},
     "output_type": "execute_result"
    }
   ],
   "source": [
    "df['Sentiment Label'].value_counts()"
   ]
  },
  {
   "cell_type": "code",
   "execution_count": 52,
   "metadata": {},
   "outputs": [],
   "source": [
    "X = df['Review Body']\n",
    "y = df['Sentiment Label']\n",
    "X_train, X_test, y_train, y_test = train_test_split(X, y, test_size=0.2, random_state=42)"
   ]
  },
  {
   "cell_type": "code",
   "execution_count": 53,
   "metadata": {},
   "outputs": [],
   "source": [
    "# Pipeline dengan TF-IDF dan SVM\n",
    "pipeline = Pipeline([\n",
    "    ('tfidf', TfidfVectorizer()),         # Konversi teks ke TF-IDF\n",
    "    ('svm', SVC())                        # Model SVM\n",
    "])"
   ]
  },
  {
   "cell_type": "code",
   "execution_count": 54,
   "metadata": {},
   "outputs": [],
   "source": [
    "# Daftar parameter yang akan diuji dalam GridSearchCV\n",
    "param_grid = {\n",
    "    'tfidf__max_features': [1000, 3000, 5000],\n",
    "    'tfidf__ngram_range': [(1, 1), (1, 2)],  # Uji unigram dan bigram\n",
    "    'svm__C': [0.1, 1, 10],                  # Nilai C untuk SVM\n",
    "    'svm__kernel': ['linear', 'rbf'],        # Kernel linear dan RBF\n",
    "    'svm__gamma': ['scale', 'auto']          # Nilai gamma\n",
    "}"
   ]
  },
  {
   "cell_type": "code",
   "execution_count": 55,
   "metadata": {},
   "outputs": [
    {
     "name": "stdout",
     "output_type": "stream",
     "text": [
      "Fitting 3 folds for each of 72 candidates, totalling 216 fits\n",
      "Best Parameters: {'svm__C': 10, 'svm__gamma': 'scale', 'svm__kernel': 'linear', 'tfidf__max_features': 3000, 'tfidf__ngram_range': (1, 1)}\n"
     ]
    }
   ],
   "source": [
    "# GridSearchCV untuk menemukan parameter terbaik\n",
    "grid_search = GridSearchCV(pipeline, param_grid, cv=3, n_jobs=-1, verbose=2)\n",
    "grid_search.fit(X_train, y_train)\n",
    "\n",
    "# Mencetak parameter terbaik\n",
    "print(\"Best Parameters:\", grid_search.best_params_)"
   ]
  },
  {
   "cell_type": "code",
   "execution_count": 57,
   "metadata": {},
   "outputs": [],
   "source": [
    "# Menggunakan model terbaik untuk prediksi\n",
    "best_model = grid_search.best_estimator_\n",
    "y_pred = best_model.predict(X_test)"
   ]
  },
  {
   "cell_type": "code",
   "execution_count": 58,
   "metadata": {},
   "outputs": [
    {
     "name": "stdout",
     "output_type": "stream",
     "text": [
      "Accuracy: 0.9031531531531531\n",
      "Classification Report:\n",
      "               precision    recall  f1-score   support\n",
      "\n",
      "    Negative       0.54      0.44      0.49        43\n",
      "     Neutral       1.00      0.20      0.33         5\n",
      "    Positive       0.93      0.96      0.95       396\n",
      "\n",
      "    accuracy                           0.90       444\n",
      "   macro avg       0.83      0.53      0.59       444\n",
      "weighted avg       0.90      0.90      0.90       444\n",
      "\n"
     ]
    }
   ],
   "source": [
    "# Evaluasi model\n",
    "print(\"Accuracy:\", accuracy_score(y_test, y_pred))\n",
    "print(\"Classification Report:\\n\", classification_report(y_test, y_pred, target_names=['Negative', 'Neutral', 'Positive']))"
   ]
  },
  {
   "cell_type": "code",
   "execution_count": 59,
   "metadata": {},
   "outputs": [
    {
     "data": {
      "text/html": [
       "<div>\n",
       "<style scoped>\n",
       "    .dataframe tbody tr th:only-of-type {\n",
       "        vertical-align: middle;\n",
       "    }\n",
       "\n",
       "    .dataframe tbody tr th {\n",
       "        vertical-align: top;\n",
       "    }\n",
       "\n",
       "    .dataframe thead th {\n",
       "        text-align: right;\n",
       "    }\n",
       "</style>\n",
       "<table border=\"1\" class=\"dataframe\">\n",
       "  <thead>\n",
       "    <tr style=\"text-align: right;\">\n",
       "      <th></th>\n",
       "      <th>Unnamed: 0</th>\n",
       "      <th>Passanger_Name</th>\n",
       "      <th>Flying_month</th>\n",
       "      <th>Route</th>\n",
       "      <th>Rating</th>\n",
       "      <th>Verified</th>\n",
       "      <th>Review_title</th>\n",
       "      <th>Review_content</th>\n",
       "      <th>Traveller_type</th>\n",
       "      <th>Class</th>\n",
       "      <th>Aircraft</th>\n",
       "      <th>Recommend</th>\n",
       "    </tr>\n",
       "  </thead>\n",
       "  <tbody>\n",
       "    <tr>\n",
       "      <th>0</th>\n",
       "      <td>0</td>\n",
       "      <td>Paige Boet</td>\n",
       "      <td>June 2023</td>\n",
       "      <td>New Orleans to London</td>\n",
       "      <td>1.0</td>\n",
       "      <td>Trip Verified</td>\n",
       "      <td>The airline lost my luggage</td>\n",
       "      <td>The airline lost my luggage and was absolutely...</td>\n",
       "      <td>Solo Leisure</td>\n",
       "      <td>Economy Class</td>\n",
       "      <td>NaN</td>\n",
       "      <td>NaN</td>\n",
       "    </tr>\n",
       "    <tr>\n",
       "      <th>1</th>\n",
       "      <td>1</td>\n",
       "      <td>NaN</td>\n",
       "      <td>March 2023</td>\n",
       "      <td>London to Amman</td>\n",
       "      <td>1.0</td>\n",
       "      <td>Trip Verified</td>\n",
       "      <td>fully refunded by our travel insurance</td>\n",
       "      <td>We booked on the BA website, round trip flight...</td>\n",
       "      <td>Couple Leisure</td>\n",
       "      <td>NaN</td>\n",
       "      <td>NaN</td>\n",
       "      <td>NaN</td>\n",
       "    </tr>\n",
       "    <tr>\n",
       "      <th>2</th>\n",
       "      <td>2</td>\n",
       "      <td>E Lanewoski</td>\n",
       "      <td>NaN</td>\n",
       "      <td>Heathrow to Bodrum</td>\n",
       "      <td>2.0</td>\n",
       "      <td>Trip Verified</td>\n",
       "      <td>no boarding drinks provided</td>\n",
       "      <td>First time flying with BA business class, neve...</td>\n",
       "      <td>NaN</td>\n",
       "      <td>Business Class</td>\n",
       "      <td>A321 neo</td>\n",
       "      <td>NaN</td>\n",
       "    </tr>\n",
       "    <tr>\n",
       "      <th>3</th>\n",
       "      <td>3</td>\n",
       "      <td>Joel Burman</td>\n",
       "      <td>June 2023</td>\n",
       "      <td>Amman to London</td>\n",
       "      <td>4.0</td>\n",
       "      <td>Not Verified</td>\n",
       "      <td>NaN</td>\n",
       "      <td>NaN</td>\n",
       "      <td>Solo Leisure</td>\n",
       "      <td>Economy Class</td>\n",
       "      <td>NaN</td>\n",
       "      <td>NaN</td>\n",
       "    </tr>\n",
       "    <tr>\n",
       "      <th>4</th>\n",
       "      <td>4</td>\n",
       "      <td>NaN</td>\n",
       "      <td>NaN</td>\n",
       "      <td>London City to Ibiza</td>\n",
       "      <td>7.0</td>\n",
       "      <td>Trip Verified</td>\n",
       "      <td>NaN</td>\n",
       "      <td>This is a two-for-one review covering economy ...</td>\n",
       "      <td>Family Leisure</td>\n",
       "      <td>Business Class</td>\n",
       "      <td>Embraer 190</td>\n",
       "      <td>NaN</td>\n",
       "    </tr>\n",
       "  </tbody>\n",
       "</table>\n",
       "</div>"
      ],
      "text/plain": [
       "   Unnamed: 0 Passanger_Name Flying_month                  Route  Rating  \\\n",
       "0           0     Paige Boet    June 2023  New Orleans to London     1.0   \n",
       "1           1            NaN   March 2023        London to Amman     1.0   \n",
       "2           2    E Lanewoski          NaN     Heathrow to Bodrum     2.0   \n",
       "3           3    Joel Burman    June 2023        Amman to London     4.0   \n",
       "4           4            NaN          NaN   London City to Ibiza     7.0   \n",
       "\n",
       "        Verified                            Review_title  \\\n",
       "0  Trip Verified             The airline lost my luggage   \n",
       "1  Trip Verified  fully refunded by our travel insurance   \n",
       "2  Trip Verified             no boarding drinks provided   \n",
       "3   Not Verified                                     NaN   \n",
       "4  Trip Verified                                     NaN   \n",
       "\n",
       "                                      Review_content  Traveller_type  \\\n",
       "0  The airline lost my luggage and was absolutely...    Solo Leisure   \n",
       "1  We booked on the BA website, round trip flight...  Couple Leisure   \n",
       "2  First time flying with BA business class, neve...             NaN   \n",
       "3                                                NaN    Solo Leisure   \n",
       "4  This is a two-for-one review covering economy ...  Family Leisure   \n",
       "\n",
       "            Class     Aircraft Recommend  \n",
       "0   Economy Class          NaN       NaN  \n",
       "1             NaN          NaN       NaN  \n",
       "2  Business Class     A321 neo       NaN  \n",
       "3   Economy Class          NaN       NaN  \n",
       "4  Business Class  Embraer 190       NaN  "
      ]
     },
     "execution_count": 59,
     "metadata": {},
     "output_type": "execute_result"
    }
   ],
   "source": [
    "# mencoba prediksi pada dataset airline reviews\n",
    "df_airline = pd.read_csv('../dataclean/Airline_Reviews (4).csv')\n",
    "df_airline.head()"
   ]
  },
  {
   "cell_type": "code",
   "execution_count": 72,
   "metadata": {},
   "outputs": [
    {
     "data": {
      "text/plain": [
       "0       airline lost luggage absolutely awful througho...\n",
       "1       booked ba website round trip flight seattle am...\n",
       "2       first time flying ba business class never boar...\n",
       "4       two one review covering economy business class...\n",
       "5       absolutely horrible airline communication terr...\n",
       "                              ...                        \n",
       "3575    lhr hkg boeing much written tired old fleet go...\n",
       "3576    got back bridgetown barbados flying british ai...\n",
       "3577    lhr jfk lax lhr check ok apart snapped early c...\n",
       "3578    hkg lhr new club world boeing bought ticket wt...\n",
       "3579    yyz lhr july flew overnight premium economy ch...\n",
       "Name: Review_content, Length: 2864, dtype: object"
      ]
     },
     "execution_count": 72,
     "metadata": {},
     "output_type": "execute_result"
    }
   ],
   "source": [
    "# Menghapus baris dengan nilai NaN di kolom Review_content\n",
    "df_airline = df_airline.dropna(subset=['Review_content'])\n",
    "df_airline['Review_content'].apply(clean_text)"
   ]
  },
  {
   "cell_type": "code",
   "execution_count": 73,
   "metadata": {},
   "outputs": [],
   "source": [
    "# Gunakan model terbaik dari GridSearchCV untuk memprediksi sentimen pada data baru\n",
    "df_airline['predicted_sentiment'] = best_model.predict(df_airline['Review_content'])"
   ]
  },
  {
   "cell_type": "code",
   "execution_count": 74,
   "metadata": {},
   "outputs": [],
   "source": [
    "# Dictionary mapping\n",
    "label_mapping = {1: 'positive', 0: 'neutral', -1: 'negative'}\n",
    "\n",
    "# Menggunakan map untuk mengonversi angka ke label\n",
    "df_airline['predicted_sentiment'] = df_airline['predicted_sentiment'].map(label_mapping)"
   ]
  },
  {
   "cell_type": "code",
   "execution_count": 75,
   "metadata": {},
   "outputs": [
    {
     "data": {
      "text/html": [
       "<div>\n",
       "<style scoped>\n",
       "    .dataframe tbody tr th:only-of-type {\n",
       "        vertical-align: middle;\n",
       "    }\n",
       "\n",
       "    .dataframe tbody tr th {\n",
       "        vertical-align: top;\n",
       "    }\n",
       "\n",
       "    .dataframe thead th {\n",
       "        text-align: right;\n",
       "    }\n",
       "</style>\n",
       "<table border=\"1\" class=\"dataframe\">\n",
       "  <thead>\n",
       "    <tr style=\"text-align: right;\">\n",
       "      <th></th>\n",
       "      <th>predicted_sentiment</th>\n",
       "      <th>Review_content</th>\n",
       "      <th>Rating</th>\n",
       "    </tr>\n",
       "  </thead>\n",
       "  <tbody>\n",
       "    <tr>\n",
       "      <th>331</th>\n",
       "      <td>positive</td>\n",
       "      <td>Having just booked BA for a return flight - be...</td>\n",
       "      <td>NaN</td>\n",
       "    </tr>\n",
       "    <tr>\n",
       "      <th>402</th>\n",
       "      <td>positive</td>\n",
       "      <td>No check in staff for Economy. Never experienc...</td>\n",
       "      <td>3.0</td>\n",
       "    </tr>\n",
       "    <tr>\n",
       "      <th>2833</th>\n",
       "      <td>negative</td>\n",
       "      <td>Sadly flying British Airways is no longer abou...</td>\n",
       "      <td>1.0</td>\n",
       "    </tr>\n",
       "    <tr>\n",
       "      <th>1396</th>\n",
       "      <td>positive</td>\n",
       "      <td>Verified Review   London to Chicago. I am a BA...</td>\n",
       "      <td>3.0</td>\n",
       "    </tr>\n",
       "    <tr>\n",
       "      <th>2844</th>\n",
       "      <td>negative</td>\n",
       "      <td>Gatwick to Florida return Flight out was quite...</td>\n",
       "      <td>NaN</td>\n",
       "    </tr>\n",
       "    <tr>\n",
       "      <th>99</th>\n",
       "      <td>negative</td>\n",
       "      <td>At 7.54 am on the day of travel whilst driving...</td>\n",
       "      <td>NaN</td>\n",
       "    </tr>\n",
       "    <tr>\n",
       "      <th>84</th>\n",
       "      <td>positive</td>\n",
       "      <td>I tried to check in on line and was informed t...</td>\n",
       "      <td>NaN</td>\n",
       "    </tr>\n",
       "    <tr>\n",
       "      <th>3256</th>\n",
       "      <td>negative</td>\n",
       "      <td>Travelled to Cyprus from Gatwick in economy as...</td>\n",
       "      <td>2.0</td>\n",
       "    </tr>\n",
       "    <tr>\n",
       "      <th>1367</th>\n",
       "      <td>positive</td>\n",
       "      <td>Verified Review   On a flight from Bangkok to ...</td>\n",
       "      <td>NaN</td>\n",
       "    </tr>\n",
       "    <tr>\n",
       "      <th>648</th>\n",
       "      <td>negative</td>\n",
       "      <td>Hong Kong to London. An email on the 25th Augu...</td>\n",
       "      <td>1.0</td>\n",
       "    </tr>\n",
       "  </tbody>\n",
       "</table>\n",
       "</div>"
      ],
      "text/plain": [
       "     predicted_sentiment                                     Review_content  \\\n",
       "331             positive  Having just booked BA for a return flight - be...   \n",
       "402             positive  No check in staff for Economy. Never experienc...   \n",
       "2833            negative  Sadly flying British Airways is no longer abou...   \n",
       "1396            positive  Verified Review   London to Chicago. I am a BA...   \n",
       "2844            negative  Gatwick to Florida return Flight out was quite...   \n",
       "99              negative  At 7.54 am on the day of travel whilst driving...   \n",
       "84              positive  I tried to check in on line and was informed t...   \n",
       "3256            negative  Travelled to Cyprus from Gatwick in economy as...   \n",
       "1367            positive  Verified Review   On a flight from Bangkok to ...   \n",
       "648             negative  Hong Kong to London. An email on the 25th Augu...   \n",
       "\n",
       "      Rating  \n",
       "331      NaN  \n",
       "402      3.0  \n",
       "2833     1.0  \n",
       "1396     3.0  \n",
       "2844     NaN  \n",
       "99       NaN  \n",
       "84       NaN  \n",
       "3256     2.0  \n",
       "1367     NaN  \n",
       "648      1.0  "
      ]
     },
     "execution_count": 75,
     "metadata": {},
     "output_type": "execute_result"
    }
   ],
   "source": [
    "df_airline[['predicted_sentiment', 'Review_content', 'Rating']].sample(10)"
   ]
  },
  {
   "cell_type": "code",
   "execution_count": 84,
   "metadata": {},
   "outputs": [
    {
     "name": "stdout",
     "output_type": "stream",
     "text": [
      "                                         Review_content predicted_sentiment\n",
      "1782  Verified Review   Manchester to Los Angeles vi...            negative\n",
      "614   Terrible lack of any leg and body room in econ...            negative\n",
      "239   BA cancelled my flight, I never got on it, cou...            negative\n",
      "275   I booked a flight to London and paid, months i...            negative\n",
      "2045  Verified Review   Mexico to Amsterdam via Lond...            negative\n",
      "3482  Glasgow to LHR on a completely full flight. Th...            negative\n",
      "5     Absolutely horrible airline. Communication is ...            negative\n",
      "1237  London to Rome. It's been a while since I last...            negative\n",
      "3401  BA206 from Miami to LHR on upper deck dinner t...            negative\n",
      "58    I wouldn't recommend British Airways at all. I...            negative\n"
     ]
    }
   ],
   "source": [
    "negative_reviews = df_airline[df_airline['predicted_sentiment'] == 'negative']\n",
    "\n",
    "print(negative_reviews[['Review_content', 'predicted_sentiment']].sample(10))"
   ]
  },
  {
   "cell_type": "code",
   "execution_count": 92,
   "metadata": {},
   "outputs": [
    {
     "name": "stdout",
     "output_type": "stream",
     "text": [
      "                                         Review_content predicted_sentiment  \\\n",
      "2396  British Airways flight from Punta Cana to Lond...            positive   \n",
      "504   London Heathrow to Sofia. A good experience on...            positive   \n",
      "3421  LHR-FRA-LHR in spotlessly clean airbuses both ...            positive   \n",
      "1425  Verified Review   Krakow to London. Got us the...            positive   \n",
      "893   London to Berlin scheduled for 21st December. ...            positive   \n",
      "2113  Verified Review   I would have been very disap...            positive   \n",
      "733   London to Gothenburg. Unique procedures that a...            positive   \n",
      "2610  British Airways flight from Moscow to London o...            positive   \n",
      "3047  Delhi to London in seat 2A 747 aircraft. Very ...            positive   \n",
      "736   I had some difficulty from the start, after my...            positive   \n",
      "\n",
      "      Rating  \n",
      "2396     3.0  \n",
      "504      8.0  \n",
      "3421     8.0  \n",
      "1425     NaN  \n",
      "893      1.0  \n",
      "2113     3.0  \n",
      "733      3.0  \n",
      "2610     7.0  \n",
      "3047     5.0  \n",
      "736      NaN  \n"
     ]
    }
   ],
   "source": [
    "positive_reviews = df_airline[df_airline['predicted_sentiment'] == 'positive']\n",
    "\n",
    "print(positive_reviews[['Review_content', 'predicted_sentiment', 'Rating']].sample(10))"
   ]
  }
 ],
 "metadata": {
  "kernelspec": {
   "display_name": "Python 3",
   "language": "python",
   "name": "python3"
  },
  "language_info": {
   "codemirror_mode": {
    "name": "ipython",
    "version": 3
   },
   "file_extension": ".py",
   "mimetype": "text/x-python",
   "name": "python",
   "nbconvert_exporter": "python",
   "pygments_lexer": "ipython3",
   "version": "3.12.3"
  }
 },
 "nbformat": 4,
 "nbformat_minor": 2
}
