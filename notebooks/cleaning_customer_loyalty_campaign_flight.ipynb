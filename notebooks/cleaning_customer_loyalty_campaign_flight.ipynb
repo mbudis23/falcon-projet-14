{
 "cells": [
  {
   "cell_type": "code",
   "execution_count": 1,
   "metadata": {},
   "outputs": [],
   "source": [
    "import pandas as pd"
   ]
  },
  {
   "cell_type": "code",
   "execution_count": 2,
   "metadata": {},
   "outputs": [],
   "source": [
    "df_customer_loyalty_campaign_flight = pd.read_csv('../dataset/Customer_Loyalty_Campaign_Flight.csv', sep=';')"
   ]
  },
  {
   "cell_type": "code",
   "execution_count": 3,
   "metadata": {},
   "outputs": [
    {
     "name": "stdout",
     "output_type": "stream",
     "text": [
      "<class 'pandas.core.frame.DataFrame'>\n",
      "RangeIndex: 405624 entries, 0 to 405623\n",
      "Data columns (total 10 columns):\n",
      " #   Column                       Non-Null Count   Dtype  \n",
      "---  ------                       --------------   -----  \n",
      " 0   Loyalty Number               405624 non-null  int64  \n",
      " 1   Year                         405624 non-null  int64  \n",
      " 2   Month                        405624 non-null  int64  \n",
      " 3   Flights Booked               207632 non-null  float64\n",
      " 4   Flights with Companions      108737 non-null  float64\n",
      " 5   Total Flights                207632 non-null  float64\n",
      " 6   Distance                     207632 non-null  float64\n",
      " 7   Points Accumulated           207632 non-null  object \n",
      " 8   Points Redeemed              24181 non-null   float64\n",
      " 9   Dollar Cost Points Redeemed  24181 non-null   float64\n",
      "dtypes: float64(6), int64(3), object(1)\n",
      "memory usage: 30.9+ MB\n"
     ]
    }
   ],
   "source": [
    "df_customer_loyalty_campaign_flight.info()"
   ]
  },
  {
   "cell_type": "code",
   "execution_count": 4,
   "metadata": {},
   "outputs": [
    {
     "data": {
      "text/plain": [
       "Loyalty Number                 0.000000\n",
       "Year                           0.000000\n",
       "Month                          0.000000\n",
       "Flights Booked                 0.488117\n",
       "Flights with Companions        0.731927\n",
       "Total Flights                  0.488117\n",
       "Distance                       0.488117\n",
       "Points Accumulated             0.488117\n",
       "Points Redeemed                0.940386\n",
       "Dollar Cost Points Redeemed    0.940386\n",
       "dtype: float64"
      ]
     },
     "execution_count": 4,
     "metadata": {},
     "output_type": "execute_result"
    }
   ],
   "source": [
    "df_customer_loyalty_campaign_flight.isnull().sum()/len(df_customer_loyalty_campaign_flight)"
   ]
  },
  {
   "cell_type": "code",
   "execution_count": 5,
   "metadata": {},
   "outputs": [],
   "source": [
    "for idx, row in df_customer_loyalty_campaign_flight.iterrows():\n",
    "    flights_booked = row['Flights Booked']\n",
    "    flights_with_companions = row['Flights with Companions']\n",
    "    total_flights = row['Total Flights']\n",
    "    \n",
    "    # If Flights Booked is NaN, fill it with Total Flights - Flights with Companions\n",
    "    if pd.isna(flights_booked) and pd.notna(flights_with_companions) and pd.notna(total_flights):\n",
    "        df_customer_loyalty_campaign_flight.at[idx, 'Flights Booked'] = total_flights - flights_with_companions\n",
    "    \n",
    "    # If Flights with Companions is NaN, fill it with Total Flights - Flights Booked\n",
    "    elif pd.isna(flights_with_companions) and pd.notna(flights_booked) and pd.notna(total_flights):\n",
    "        df_customer_loyalty_campaign_flight.at[idx, 'Flights with Companions'] = total_flights - flights_booked\n",
    "    \n",
    "    # If Total Flights is NaN, fill it with Flights Booked + Flights with Companions\n",
    "    elif pd.isna(total_flights) and pd.notna(flights_booked) and pd.notna(flights_with_companions):\n",
    "        df_customer_loyalty_campaign_flight.at[idx, 'Total Flights'] = flights_booked + flights_with_companions\n",
    "\n"
   ]
  },
  {
   "cell_type": "code",
   "execution_count": 6,
   "metadata": {},
   "outputs": [],
   "source": [
    "df_customer_loyalty_campaign_flight.loc[\n",
    "    df_customer_loyalty_campaign_flight['Distance'] == 0.0, \n",
    "    ['Flights Booked', 'Flights with Companions', 'Total Flights']\n",
    "] = 0\n"
   ]
  },
  {
   "cell_type": "code",
   "execution_count": 7,
   "metadata": {},
   "outputs": [],
   "source": [
    "df_customer_loyalty_campaign_flight['Points Accumulated'] = df_customer_loyalty_campaign_flight['Distance']/10"
   ]
  },
  {
   "cell_type": "code",
   "execution_count": 8,
   "metadata": {},
   "outputs": [],
   "source": [
    "df_customer_loyalty_campaign_flight = df_customer_loyalty_campaign_flight.dropna(subset=['Points Accumulated'])\n"
   ]
  },
  {
   "cell_type": "code",
   "execution_count": 9,
   "metadata": {},
   "outputs": [],
   "source": [
    "df_customer_loyalty_campaign_flight.drop(columns=['Points Redeemed', 'Dollar Cost Points Redeemed'], inplace=True)"
   ]
  },
  {
   "cell_type": "code",
   "execution_count": 10,
   "metadata": {},
   "outputs": [],
   "source": [
    "df_customer_loyalty_campaign_flight['Flights Booked'] = df_customer_loyalty_campaign_flight['Flights Booked'].astype(int)\n",
    "df_customer_loyalty_campaign_flight['Flights with Companions'] = df_customer_loyalty_campaign_flight['Flights with Companions'].astype(int)\n",
    "df_customer_loyalty_campaign_flight['Total Flights'] = df_customer_loyalty_campaign_flight['Total Flights'].astype(int)"
   ]
  },
  {
   "cell_type": "code",
   "execution_count": 11,
   "metadata": {},
   "outputs": [],
   "source": [
    "df_customer_loyalty_campaign_flight.to_csv('../dataclean/customer_loyalty.csv')"
   ]
  },
  {
   "cell_type": "code",
   "execution_count": 12,
   "metadata": {},
   "outputs": [
    {
     "name": "stdout",
     "output_type": "stream",
     "text": [
      "<class 'pandas.core.frame.DataFrame'>\n",
      "Index: 207632 entries, 0 to 405621\n",
      "Data columns (total 8 columns):\n",
      " #   Column                   Non-Null Count   Dtype  \n",
      "---  ------                   --------------   -----  \n",
      " 0   Loyalty Number           207632 non-null  int64  \n",
      " 1   Year                     207632 non-null  int64  \n",
      " 2   Month                    207632 non-null  int64  \n",
      " 3   Flights Booked           207632 non-null  int64  \n",
      " 4   Flights with Companions  207632 non-null  int64  \n",
      " 5   Total Flights            207632 non-null  int64  \n",
      " 6   Distance                 207632 non-null  float64\n",
      " 7   Points Accumulated       207632 non-null  float64\n",
      "dtypes: float64(2), int64(6)\n",
      "memory usage: 14.3 MB\n"
     ]
    }
   ],
   "source": [
    "df_customer_loyalty_campaign_flight.info()"
   ]
  },
  {
   "cell_type": "code",
   "execution_count": 13,
   "metadata": {},
   "outputs": [
    {
     "data": {
      "text/plain": [
       "(207632, 8)"
      ]
     },
     "execution_count": 13,
     "metadata": {},
     "output_type": "execute_result"
    }
   ],
   "source": [
    "df_customer_loyalty_campaign_flight.shape"
   ]
  }
 ],
 "metadata": {
  "kernelspec": {
   "display_name": "myenv",
   "language": "python",
   "name": "python3"
  },
  "language_info": {
   "codemirror_mode": {
    "name": "ipython",
    "version": 3
   },
   "file_extension": ".py",
   "mimetype": "text/x-python",
   "name": "python",
   "nbconvert_exporter": "python",
   "pygments_lexer": "ipython3",
   "version": "3.12.3"
  }
 },
 "nbformat": 4,
 "nbformat_minor": 2
}
